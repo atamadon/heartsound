{
  "cells": [
    {
      "cell_type": "markdown",
      "metadata": {
        "id": "view-in-github",
        "colab_type": "text"
      },
      "source": [
        "<a href=\"https://colab.research.google.com/github/atamadon/heartsound/blob/main/(COPY)Modeling_CNN_and_Transfer_Learning.ipynb\" target=\"_parent\"><img src=\"https://colab.research.google.com/assets/colab-badge.svg\" alt=\"Open In Colab\"/></a>"
      ]
    },
    {
      "cell_type": "markdown",
      "metadata": {
        "id": "o-n2YcmDeyad"
      },
      "source": [
        "# Introduction"
      ]
    },
    {
      "cell_type": "markdown",
      "metadata": {
        "id": "wgcC67Aneyae"
      },
      "source": [
        "In this section, we will use the spectrograms made in the EDA notebook to train CNN models and we will present different models including transfer learning."
      ]
    },
    {
      "cell_type": "markdown",
      "metadata": {
        "id": "FGHsp6hCeyae"
      },
      "source": [
        "# Importing Libraries"
      ]
    },
    {
      "cell_type": "code",
      "execution_count": null,
      "metadata": {
        "colab": {
          "base_uri": "https://localhost:8080/"
        },
        "id": "wHqr-wDZ4SRG",
        "outputId": "ff4206f8-756c-4539-e8e5-b82ea71e5402"
      },
      "outputs": [
        {
          "output_type": "stream",
          "name": "stdout",
          "text": [
            "Drive already mounted at /content/drive; to attempt to forcibly remount, call drive.mount(\"/content/drive\", force_remount=True).\n",
            "/content\n"
          ]
        }
      ],
      "source": [
        "from google.colab import drive\n",
        "drive.mount('/content/drive')\n",
        "!pwd"
      ]
    },
    {
      "cell_type": "code",
      "execution_count": null,
      "metadata": {
        "colab": {
          "base_uri": "https://localhost:8080/"
        },
        "id": "sMK_HnyA0-EC",
        "outputId": "b627b12d-4618-4123-84e9-9561bc457421"
      },
      "outputs": [
        {
          "output_type": "stream",
          "name": "stdout",
          "text": [
            "GPU is available\n"
          ]
        }
      ],
      "source": [
        "import pandas as pd\n",
        "import seaborn as sns\n",
        "import matplotlib.pyplot as plt\n",
        "import seaborn as sns\n",
        "import numpy as np\n",
        "import os \n",
        "\n",
        "\n",
        "from sklearn.preprocessing import LabelEncoder\n",
        "from sklearn.metrics import confusion_matrix, plot_confusion_matrix, classification_report\n",
        "\n",
        "import tensorflow as tf\n",
        "from tensorflow.keras import layers\n",
        "from tensorflow.keras.layers import Conv2D, MaxPooling2D, Flatten, Dense, Dropout\n",
        "from tensorflow.keras.preprocessing.image import ImageDataGenerator\n",
        "from tensorflow.keras.optimizers import RMSprop, Adam\n",
        "from tensorflow.keras.models import Sequential\n",
        "\n",
        "import warnings\n",
        "warnings.filterwarnings('ignore')\n",
        "\n",
        "print(\"GPU is\", \"available\" if tf.config.list_physical_devices('GPU') else \"NOT AVAILABLE\")\n",
        "\n",
        "\n",
        "from sklearn.metrics import ConfusionMatrixDisplay\n",
        "from sklearn.metrics import confusion_matrix\n",
        "import matplotlib.pyplot as plt"
      ]
    },
    {
      "cell_type": "code",
      "execution_count": null,
      "metadata": {
        "colab": {
          "base_uri": "https://localhost:8080/"
        },
        "id": "udtJfMlq1NeA",
        "outputId": "dc44c059-2742-47ef-827e-3edbae856aa2"
      },
      "outputs": [
        {
          "output_type": "stream",
          "name": "stdout",
          "text": [
            "Tue Jan 10 04:44:54 2023       \n",
            "+-----------------------------------------------------------------------------+\n",
            "| NVIDIA-SMI 460.32.03    Driver Version: 460.32.03    CUDA Version: 11.2     |\n",
            "|-------------------------------+----------------------+----------------------+\n",
            "| GPU  Name        Persistence-M| Bus-Id        Disp.A | Volatile Uncorr. ECC |\n",
            "| Fan  Temp  Perf  Pwr:Usage/Cap|         Memory-Usage | GPU-Util  Compute M. |\n",
            "|                               |                      |               MIG M. |\n",
            "|===============================+======================+======================|\n",
            "|   0  Tesla T4            Off  | 00000000:00:04.0 Off |                    0 |\n",
            "| N/A   65C    P0    30W /  70W |   2934MiB / 15109MiB |      0%      Default |\n",
            "|                               |                      |                  N/A |\n",
            "+-------------------------------+----------------------+----------------------+\n",
            "                                                                               \n",
            "+-----------------------------------------------------------------------------+\n",
            "| Processes:                                                                  |\n",
            "|  GPU   GI   CI        PID   Type   Process name                  GPU Memory |\n",
            "|        ID   ID                                                   Usage      |\n",
            "|=============================================================================|\n",
            "+-----------------------------------------------------------------------------+\n"
          ]
        }
      ],
      "source": [
        "!nvidia-smi"
      ]
    },
    {
      "cell_type": "markdown",
      "metadata": {
        "id": "MN10HnJrF8Ee"
      },
      "source": [
        "# Functions"
      ]
    },
    {
      "cell_type": "markdown",
      "metadata": {
        "id": "aR-u4-Imeyaj"
      },
      "source": [
        "The function `loss_acc` is defined to take the model and returns the loss and accuracy diagrams of the model."
      ]
    },
    {
      "cell_type": "code",
      "execution_count": null,
      "metadata": {
        "id": "Zj9L7w0bF9lO"
      },
      "outputs": [],
      "source": [
        "def loss_acc(model):\n",
        "\n",
        "\n",
        "    fig , ax = plt.subplots(1,2)\n",
        "\n",
        "\n",
        "    test_acc = model.history.history[\"val_accuracy\"]\n",
        "    test_loss = model.history.history[\"val_loss\"]\n",
        "    train_acc = model.history.history[\"accuracy\"]\n",
        "    train_loss = model.history.history[\"loss\"]\n",
        "\n",
        "    epochs = range(1, len(test_acc) + 1)\n",
        "\n",
        "    fig.set_size_inches(20,6)\n",
        "    ax[0].plot(epochs , train_loss , label = 'Training Loss')\n",
        "    ax[0].plot(epochs , test_loss , label = 'Testing Loss')\n",
        "    ax[0].set_title('Training & Testing Loss')\n",
        "    ax[0].legend()\n",
        "    ax[0].set_xlabel(\"Epochs\")\n",
        "\n",
        "    ax[1].plot(epochs , train_acc , label = 'Training Accuracy')\n",
        "    ax[1].plot(epochs , test_acc , label = 'Testing Accuracy')\n",
        "    ax[1].set_title('Training & Testing Accuracy')\n",
        "    ax[1].legend()\n",
        "    ax[1].set_xlabel(\"Epochs\")\n",
        "    plt.show()\n"
      ]
    },
    {
      "cell_type": "code",
      "execution_count": null,
      "metadata": {
        "id": "YPs1K9TB7NNI"
      },
      "outputs": [],
      "source": [
        "def extract_features(directory, sample_amount, transfer, out_size, batch_size, n_class):\n",
        "    features = np.zeros(shape=(sample_amount, out_size)) \n",
        "    labels = np.zeros(shape=(sample_amount, n_class))\n",
        "    generator = datagen.flow_from_directory(\n",
        "                                            directory, \n",
        "                                            target_size = target_size, \n",
        "                                            batch_size  = batch_size, \n",
        "                                            class_mode  ='categorical')\n",
        "    # i=0\n",
        "    for i, (inputs_batch, labels_batch) in enumerate(generator):\n",
        "        features_batch = transfer.predict(inputs_batch)\n",
        "        features[i * batch_size : (i + 1) * batch_size] = features_batch \n",
        "        labels[i * batch_size : (i + 1) * batch_size] = labels_batch\n",
        "        i = i + 1\n",
        "        if i * batch_size >= sample_amount:\n",
        "            break\n",
        "    return features, labels"
      ]
    },
    {
      "cell_type": "markdown",
      "metadata": {
        "id": "_58htrZZ1SXE"
      },
      "source": [
        "# Importing Train-Test data sets"
      ]
    },
    {
      "cell_type": "code",
      "execution_count": null,
      "metadata": {
        "id": "qs9W0iev1RCU"
      },
      "outputs": [],
      "source": [
        "base_dir = \"/content/drive/MyDrive/HeartSound/Data/spectrograms\"\n",
        "\n",
        "train_dir = os.path.join(base_dir, 'train')\n",
        "test_dir  = os.path.join(base_dir, 'test')\n",
        "\n",
        "# Directory with training normal/abnormal spectrograms\n",
        "train_AS  = os.path.join(train_dir, 'AS')\n",
        "train_MR  = os.path.join(train_dir, 'MR')\n",
        "train_MS  = os.path.join(train_dir, 'MS')\n",
        "train_MVP = os.path.join(train_dir, 'MVP')\n",
        "train_N   = os.path.join(train_dir, 'N')\n",
        "\n",
        "\n",
        "\n",
        "# Directory with test normal/abnormal spectrograms\n",
        "\n",
        "test_AS  = os.path.join(test_dir, 'AS')\n",
        "test_MR  = os.path.join(test_dir, 'MR')\n",
        "test_MS  = os.path.join(test_dir, 'MS')\n",
        "test_MVP = os.path.join(test_dir, 'MVP')\n",
        "test_N   = os.path.join(test_dir, 'N')\n"
      ]
    },
    {
      "cell_type": "code",
      "execution_count": null,
      "metadata": {
        "colab": {
          "base_uri": "https://localhost:8080/"
        },
        "id": "UbyN-DX01f-0",
        "outputId": "5ef17b25-aa1e-45a0-a57d-d7a016ef16e8"
      },
      "outputs": [
        {
          "output_type": "stream",
          "name": "stdout",
          "text": [
            "Found 800 images belonging to 5 classes.\n",
            "Found 200 images belonging to 5 classes.\n"
          ]
        }
      ],
      "source": [
        "# All images will be rescaled by 1./255.\n",
        "\n",
        "batch_size = 5\n",
        "\n",
        "train_datagen = ImageDataGenerator( rescale = 1.0/255,\n",
        "                                    #rotation_range=40,\n",
        "                                    #width_shift_range=0.01,\n",
        "                                    #height_shift_range=0.01,\n",
        "                                    #shear_range=0.01,\n",
        "                                    #zoom_range=0.01,\n",
        "                                    #horizontal_flip=False,\n",
        "                                    #fill_mode='nearest'\n",
        "                                   ) #dtype= tf.float64)\n",
        "test_datagen  = ImageDataGenerator( rescale = 1.0/255) #dtype= tf.float64)\n",
        "\n",
        "#target_size = (150, 150)\n",
        "#AlexNet target size (227, 227)\n",
        "target_size = (227, 227)\n",
        "train_generator = train_datagen.flow_from_directory(train_dir,\n",
        "                                                    batch_size=batch_size,\n",
        "                                                    class_mode=\"categorical\",\n",
        "                                                    shuffle = False,\n",
        "                                                    target_size=target_size)     \n",
        "\n",
        "validation_generator =  test_datagen.flow_from_directory(test_dir,\n",
        "                                                         batch_size=batch_size,\n",
        "                                                         class_mode  = \"categorical\",\n",
        "                                                         shuffle = False,\n",
        "                                                         target_size = target_size)"
      ]
    },
    {
      "cell_type": "markdown",
      "metadata": {
        "id": "WfpEEd9Keyal"
      },
      "source": [
        "# Modeling"
      ]
    },
    {
      "cell_type": "markdown",
      "metadata": {
        "id": "YTZRkSQoeyam"
      },
      "source": [
        "In this section, we will present some CNN based models and we will use some transfer learning models to be used in this work."
      ]
    },
    {
      "cell_type": "markdown",
      "metadata": {
        "id": "Pq-2-_-reyam"
      },
      "source": [
        "## Convolutional Neural Network"
      ]
    },
    {
      "cell_type": "markdown",
      "metadata": {
        "id": "lsGCgptWeyam"
      },
      "source": [
        "In this section, we will present the CNN based models."
      ]
    },
    {
      "cell_type": "markdown",
      "metadata": {
        "id": "28rXyqHnFlCq"
      },
      "source": [
        "### First Model"
      ]
    },
    {
      "cell_type": "code",
      "execution_count": null,
      "metadata": {
        "colab": {
          "base_uri": "https://localhost:8080/"
        },
        "id": "SsYkZ_UJFkMf",
        "outputId": "3857152c-5d66-408b-c7c8-fa62f8ff2635"
      },
      "outputs": [
        {
          "output_type": "stream",
          "name": "stdout",
          "text": [
            "Model: \"sequential_4\"\n",
            "_________________________________________________________________\n",
            " Layer (type)                Output Shape              Param #   \n",
            "=================================================================\n",
            " conv2d_16 (Conv2D)          (None, 148, 148, 32)      896       \n",
            "                                                                 \n",
            " max_pooling2d_10 (MaxPoolin  (None, 74, 74, 32)       0         \n",
            " g2D)                                                            \n",
            "                                                                 \n",
            " flatten_4 (Flatten)         (None, 175232)            0         \n",
            "                                                                 \n",
            " dense_11 (Dense)            (None, 64)                11214912  \n",
            "                                                                 \n",
            " dense_12 (Dense)            (None, 5)                 325       \n",
            "                                                                 \n",
            "=================================================================\n",
            "Total params: 11,216,133\n",
            "Trainable params: 11,216,133\n",
            "Non-trainable params: 0\n",
            "_________________________________________________________________\n"
          ]
        }
      ],
      "source": [
        "model_1 = tf.keras.models.Sequential([\n",
        "    # Note the input shape is the desired size of the image 150x150 with 3 bytes color\n",
        "    tf.keras.layers.Conv2D(32, (3,3), activation='relu', \n",
        "                           input_shape=(target_size[0], target_size[1], 3)),\n",
        "    tf.keras.layers.MaxPooling2D(2,2),\n",
        "    tf.keras.layers.Flatten(), \n",
        "    tf.keras.layers.Dense(64, activation='relu'), \n",
        "    tf.keras.layers.Dense(5, activation='softmax')  \n",
        "])\n",
        "model_1.summary()"
      ]
    },
    {
      "cell_type": "markdown",
      "metadata": {
        "id": "Pp0EMDUazn7a"
      },
      "source": [
        "### AlexNet CNN Architecture\n",
        "\n"
      ]
    },
    {
      "cell_type": "code",
      "execution_count": null,
      "metadata": {
        "colab": {
          "base_uri": "https://localhost:8080/"
        },
        "id": "VWAWYawrieVO",
        "outputId": "c3fa7397-48db-457f-8ef5-555e63fed346"
      },
      "outputs": [
        {
          "output_type": "stream",
          "name": "stdout",
          "text": [
            "Model: \"sequential_7\"\n",
            "_________________________________________________________________\n",
            " Layer (type)                Output Shape              Param #   \n",
            "=================================================================\n",
            " conv2d_27 (Conv2D)          (None, 55, 55, 96)        34944     \n",
            "                                                                 \n",
            " batch_normalization_25 (Bat  (None, 55, 55, 96)       384       \n",
            " chNormalization)                                                \n",
            "                                                                 \n",
            " max_pooling2d_17 (MaxPoolin  (None, 27, 27, 96)       0         \n",
            " g2D)                                                            \n",
            "                                                                 \n",
            " conv2d_28 (Conv2D)          (None, 27, 27, 256)       614656    \n",
            "                                                                 \n",
            " batch_normalization_26 (Bat  (None, 27, 27, 256)      1024      \n",
            " chNormalization)                                                \n",
            "                                                                 \n",
            " max_pooling2d_18 (MaxPoolin  (None, 13, 13, 256)      0         \n",
            " g2D)                                                            \n",
            "                                                                 \n",
            " conv2d_29 (Conv2D)          (None, 13, 13, 384)       885120    \n",
            "                                                                 \n",
            " batch_normalization_27 (Bat  (None, 13, 13, 384)      1536      \n",
            " chNormalization)                                                \n",
            "                                                                 \n",
            " conv2d_30 (Conv2D)          (None, 13, 13, 384)       1327488   \n",
            "                                                                 \n",
            " batch_normalization_28 (Bat  (None, 13, 13, 384)      1536      \n",
            " chNormalization)                                                \n",
            "                                                                 \n",
            " conv2d_31 (Conv2D)          (None, 13, 13, 256)       884992    \n",
            "                                                                 \n",
            " batch_normalization_29 (Bat  (None, 13, 13, 256)      1024      \n",
            " chNormalization)                                                \n",
            "                                                                 \n",
            " max_pooling2d_19 (MaxPoolin  (None, 6, 6, 256)        0         \n",
            " g2D)                                                            \n",
            "                                                                 \n",
            " flatten_7 (Flatten)         (None, 9216)              0         \n",
            "                                                                 \n",
            " dense_19 (Dense)            (None, 4096)              37752832  \n",
            "                                                                 \n",
            " dropout_10 (Dropout)        (None, 4096)              0         \n",
            "                                                                 \n",
            " dense_20 (Dense)            (None, 4096)              16781312  \n",
            "                                                                 \n",
            " dropout_11 (Dropout)        (None, 4096)              0         \n",
            "                                                                 \n",
            " dense_21 (Dense)            (None, 5)                 20485     \n",
            "                                                                 \n",
            "=================================================================\n",
            "Total params: 58,307,333\n",
            "Trainable params: 58,304,581\n",
            "Non-trainable params: 2,752\n",
            "_________________________________________________________________\n"
          ]
        }
      ],
      "source": [
        "model_1 = tf.keras.models.Sequential([\n",
        "    tf.keras.layers.Conv2D(filters=96, kernel_size=(11,11), strides=(4,4), activation='relu', input_shape=(target_size[0], target_size[1], 3)),\n",
        "    tf.keras.layers.BatchNormalization(),\n",
        "    tf.keras.layers.MaxPool2D(pool_size=(3,3), strides=(2,2)),\n",
        "    tf.keras.layers.Conv2D(filters=256, kernel_size=(5,5), strides=(1,1), activation='relu', padding=\"same\"),\n",
        "    tf.keras.layers.BatchNormalization(),\n",
        "    tf.keras.layers.MaxPool2D(pool_size=(3,3), strides=(2,2)),\n",
        "    tf.keras.layers.Conv2D(filters=384, kernel_size=(3,3), strides=(1,1), activation='relu', padding=\"same\"),\n",
        "    tf.keras.layers.BatchNormalization(),\n",
        "    tf.keras.layers.Conv2D(filters=384, kernel_size=(3,3), strides=(1,1), activation='relu', padding=\"same\"),\n",
        "    tf.keras.layers.BatchNormalization(),\n",
        "    tf.keras.layers.Conv2D(filters=256, kernel_size=(3,3), strides=(1,1), activation='relu', padding=\"same\"),\n",
        "    tf.keras.layers.BatchNormalization(),\n",
        "    tf.keras.layers.MaxPool2D(pool_size=(3,3), strides=(2,2)),\n",
        "    tf.keras.layers.Flatten(),\n",
        "    tf.keras.layers.Dense(4096, activation='relu'),\n",
        "    tf.keras.layers.Dropout(0.5),\n",
        "    tf.keras.layers.Dense(4096, activation='relu'),\n",
        "    tf.keras.layers.Dropout(0.5),\n",
        "    tf.keras.layers.Dense(5, activation='softmax')\n",
        "])\n",
        "model_1.summary()"
      ]
    },
    {
      "cell_type": "markdown",
      "source": [
        "### U-Net CNN Architecture\n",
        "\n",
        "from: https://www.kaggle.com/code/keegil/keras-u-net-starter-lb-0-277?scriptVersionId=2175437&cellId=11\n"
      ],
      "metadata": {
        "id": "a1uOTJHy5igd"
      }
    },
    {
      "cell_type": "code",
      "source": [
        "inputs = Input((IMG_HEIGHT, IMG_WIDTH, IMG_CHANNELS))\n",
        "s = Lambda(lambda x: x / 255) (inputs)\n",
        "\n",
        "c1 = Conv2D(16, (3, 3), activation='elu', kernel_initializer='he_normal', padding='same') (s)\n",
        "c1 = Dropout(0.1) (c1)\n",
        "c1 = Conv2D(16, (3, 3), activation='elu', kernel_initializer='he_normal', padding='same') (c1)\n",
        "p1 = MaxPooling2D((2, 2)) (c1)\n",
        "\n",
        "c2 = Conv2D(32, (3, 3), activation='elu', kernel_initializer='he_normal', padding='same') (p1)\n",
        "c2 = Dropout(0.1) (c2)\n",
        "c2 = Conv2D(32, (3, 3), activation='elu', kernel_initializer='he_normal', padding='same') (c2)\n",
        "p2 = MaxPooling2D((2, 2)) (c2)\n",
        "\n",
        "c3 = Conv2D(64, (3, 3), activation='elu', kernel_initializer='he_normal', padding='same') (p2)\n",
        "c3 = Dropout(0.2) (c3)\n",
        "c3 = Conv2D(64, (3, 3), activation='elu', kernel_initializer='he_normal', padding='same') (c3)\n",
        "p3 = MaxPooling2D((2, 2)) (c3)\n",
        "\n",
        "c4 = Conv2D(128, (3, 3), activation='elu', kernel_initializer='he_normal', padding='same') (p3)\n",
        "c4 = Dropout(0.2) (c4)\n",
        "c4 = Conv2D(128, (3, 3), activation='elu', kernel_initializer='he_normal', padding='same') (c4)\n",
        "p4 = MaxPooling2D(pool_size=(2, 2)) (c4)\n",
        "\n",
        "c5 = Conv2D(256, (3, 3), activation='elu', kernel_initializer='he_normal', padding='same') (p4)\n",
        "c5 = Dropout(0.3) (c5)\n",
        "c5 = Conv2D(256, (3, 3), activation='elu', kernel_initializer='he_normal', padding='same') (c5)\n",
        "\n",
        "u6 = Conv2DTranspose(128, (2, 2), strides=(2, 2), padding='same') (c5)\n",
        "u6 = concatenate([u6, c4])\n",
        "c6 = Conv2D(128, (3, 3), activation='elu', kernel_initializer='he_normal', padding='same') (u6)\n",
        "c6 = Dropout(0.2) (c6)\n",
        "c6 = Conv2D(128, (3, 3), activation='elu', kernel_initializer='he_normal', padding='same') (c6)\n",
        "\n",
        "u7 = Conv2DTranspose(64, (2, 2), strides=(2, 2), padding='same') (c6)\n",
        "u7 = concatenate([u7, c3])\n",
        "c7 = Conv2D(64, (3, 3), activation='elu', kernel_initializer='he_normal', padding='same') (u7)\n",
        "c7 = Dropout(0.2) (c7)\n",
        "c7 = Conv2D(64, (3, 3), activation='elu', kernel_initializer='he_normal', padding='same') (c7)\n",
        "\n",
        "u8 = Conv2DTranspose(32, (2, 2), strides=(2, 2), padding='same') (c7)\n",
        "u8 = concatenate([u8, c2])\n",
        "c8 = Conv2D(32, (3, 3), activation='elu', kernel_initializer='he_normal', padding='same') (u8)\n",
        "c8 = Dropout(0.1) (c8)\n",
        "c8 = Conv2D(32, (3, 3), activation='elu', kernel_initializer='he_normal', padding='same') (c8)\n",
        "\n",
        "u9 = Conv2DTranspose(16, (2, 2), strides=(2, 2), padding='same') (c8)\n",
        "u9 = concatenate([u9, c1], axis=3)\n",
        "c9 = Conv2D(16, (3, 3), activation='elu', kernel_initializer='he_normal', padding='same') (u9)\n",
        "c9 = Dropout(0.1) (c9)\n",
        "c9 = Conv2D(16, (3, 3), activation='elu', kernel_initializer='he_normal', padding='same') (c9)\n",
        "\n",
        "outputs = Conv2D(1, (1, 1), activation='sigmoid') (c9)"
      ],
      "metadata": {
        "id": "JRCkos-e5moH"
      },
      "execution_count": null,
      "outputs": []
    },
    {
      "cell_type": "markdown",
      "source": [
        "# Train model"
      ],
      "metadata": {
        "id": "bAqjiflH8aiU"
      }
    },
    {
      "cell_type": "code",
      "execution_count": null,
      "metadata": {
        "colab": {
          "base_uri": "https://localhost:8080/"
        },
        "id": "T-AFFD72Fxsi",
        "outputId": "4c6f9bca-6c26-4a58-b779-3ce069eb10ab"
      },
      "outputs": [
        {
          "output_type": "stream",
          "name": "stdout",
          "text": [
            "Epoch 1/10\n",
            "160/160 [==============================] - 39s 233ms/step - loss: 12.7280 - accuracy: 0.1750 - val_loss: 2.1541 - val_accuracy: 0.1700\n",
            "Epoch 2/10\n",
            "160/160 [==============================] - 38s 239ms/step - loss: 1.6383 - accuracy: 0.1625 - val_loss: 3.1340 - val_accuracy: 0.0800\n",
            "Epoch 3/10\n",
            "160/160 [==============================] - 35s 220ms/step - loss: 1.7607 - accuracy: 0.1550 - val_loss: 1.6650 - val_accuracy: 0.1100\n",
            "Epoch 4/10\n",
            "160/160 [==============================] - 36s 222ms/step - loss: 1.6203 - accuracy: 0.1850 - val_loss: 1.6119 - val_accuracy: 0.2050\n",
            "Epoch 5/10\n",
            "160/160 [==============================] - 35s 221ms/step - loss: 1.7500 - accuracy: 0.1513 - val_loss: 1.6463 - val_accuracy: 0.2100\n",
            "Epoch 6/10\n",
            "160/160 [==============================] - 36s 226ms/step - loss: 1.6173 - accuracy: 0.1663 - val_loss: 1.6135 - val_accuracy: 0.2150\n",
            "Epoch 7/10\n",
            "160/160 [==============================] - 36s 225ms/step - loss: 1.6124 - accuracy: 0.1612 - val_loss: 1.6133 - val_accuracy: 0.2050\n",
            "Epoch 8/10\n",
            "160/160 [==============================] - 36s 222ms/step - loss: 1.6157 - accuracy: 0.1825 - val_loss: 1.6139 - val_accuracy: 0.2050\n",
            "Epoch 9/10\n",
            "160/160 [==============================] - 35s 219ms/step - loss: 1.6160 - accuracy: 0.1388 - val_loss: 1.6173 - val_accuracy: 0.2000\n",
            "Epoch 10/10\n",
            "160/160 [==============================] - 38s 236ms/step - loss: 1.6121 - accuracy: 0.1538 - val_loss: 1.6173 - val_accuracy: 0.2000\n",
            "Fitting Done\n"
          ]
        }
      ],
      "source": [
        "model_1.compile(optimizer=Adam(learning_rate=0.001),\n",
        "              loss=\"categorical_crossentropy\",\n",
        "              metrics = ['accuracy'])\n",
        "\n",
        "\n",
        "model_1.fit_generator(\n",
        "            train_generator,\n",
        "            epochs=10,\n",
        "            validation_data=validation_generator,\n",
        "           )\n",
        "print(\"Fitting Done\")"
      ]
    },
    {
      "cell_type": "code",
      "execution_count": null,
      "metadata": {
        "colab": {
          "base_uri": "https://localhost:8080/",
          "height": 389
        },
        "id": "B7sIO1RCQCz8",
        "outputId": "fa443ad7-fa69-4769-f57b-314163986b0a"
      },
      "outputs": [
        {
          "output_type": "display_data",
          "data": {
            "text/plain": [
              "<Figure size 1440x432 with 2 Axes>"
            ],
            "image/png": "[encoded data removed]"
          },
          "metadata": {
            "needs_background": "light"
          }
        }
      ],
      "source": [
        "loss_acc(model_1)"
      ]
    },
    {
      "cell_type": "code",
      "execution_count": null,
      "metadata": {
        "colab": {
          "base_uri": "https://localhost:8080/",
          "height": 493
        },
        "id": "8Mx0EaBPduAQ",
        "outputId": "6fff2089-f49e-46d5-a3ae-09d269e69e57"
      },
      "outputs": [
        {
          "name": "stdout",
          "output_type": "stream",
          "text": [
            "              precision    recall  f1-score   support\n",
            "\n",
            "          AS       0.67      0.25      0.36        40\n",
            "          MR       0.38      0.50      0.43        40\n",
            "          MS       0.39      0.78      0.52        40\n",
            "         MVP       0.21      0.15      0.18        40\n",
            "           N       0.88      0.53      0.66        40\n",
            "\n",
            "    accuracy                           0.44       200\n",
            "   macro avg       0.50      0.44      0.43       200\n",
            "weighted avg       0.50      0.44      0.43       200\n",
            "\n"
          ]
        },
        {
          "data": {
            "image/png": "[encoded data removed]",
            "text/plain": [
              "<Figure size 432x288 with 2 Axes>"
            ]
          },
          "metadata": {},
          "output_type": "display_data"
        }
      ],
      "source": [
        "pred = model_1.predict_generator(validation_generator)\n",
        "predicted_class = np.argmax(pred, axis = 1)\n",
        "labels = list(train_generator.class_indices.keys())\n",
        "print(classification_report(validation_generator.classes, predicted_class, \n",
        "                            target_names=labels))\n",
        "\n",
        "cf_matrix_test  = confusion_matrix(validation_generator.classes, \n",
        "                                   predicted_class)\n",
        "\n",
        "\n",
        "g = sns.heatmap(cf_matrix_test, annot=True, cmap='Blues')\n",
        "\n",
        "g.xaxis.set_ticklabels(labels)\n",
        "g.yaxis.set_ticklabels(labels)\n",
        "\n",
        "g.set_xlabel('Predicted Label', fontsize=10)\n",
        "g.set_ylabel('true Label', fontsize=10);\n"
      ]
    },
    {
      "cell_type": "markdown",
      "metadata": {
        "id": "RZCgWdCSeyat"
      },
      "source": [
        "## Transfer Learning"
      ]
    },
    {
      "cell_type": "markdown",
      "metadata": {
        "id": "6iNLGPBieyat"
      },
      "source": [
        "In this section, we will use transfer learning models `EfficientNetB3` and `EfficientNetB7` to train a neural network."
      ]
    },
    {
      "cell_type": "markdown",
      "metadata": {
        "id": "4WNYp9Wx7eq-"
      },
      "source": [
        "## `EfficientNetB1`\n",
        "\n",
        "\n",
        "This worked well and put the results in the proposal."
      ]
    },
    {
      "cell_type": "code",
      "execution_count": null,
      "metadata": {
        "colab": {
          "base_uri": "https://localhost:8080/"
        },
        "id": "NkTOMSue7ePX",
        "outputId": "9327e1fb-0738-4fdc-a4d1-6b63fc9fc6bf"
      },
      "outputs": [
        {
          "name": "stdout",
          "output_type": "stream",
          "text": [
            "Downloading data from https://storage.googleapis.com/keras-applications/efficientnetb1_notop.h5\n",
            "27025408/27018416 [==============================] - 0s 0us/step\n",
            "27033600/27018416 [==============================] - 0s 0us/step\n"
          ]
        }
      ],
      "source": [
        "# All images will be rescaled by 1./255.\n",
        "datagen = ImageDataGenerator( rescale = 1.0/255, dtype= tf.float64)\n",
        "batch_size = 10\n",
        "target_size = (150, 150)\n",
        "input_shape = (target_size[0], target_size[1], 3)\n",
        "\n",
        "\n",
        "\n",
        "model_name='EfficientNetB1'\n",
        "\n",
        "efficient_1=tf.keras.applications.EfficientNetB1(\n",
        "                                      include_top=False, \n",
        "                                      weights=\"imagenet\",\n",
        "                                      input_shape=input_shape,\n",
        "                                      classes=5,\n",
        "                                      classifier_activation='softmax',\n",
        "                                      pooling='max') \n",
        "\n",
        "# efficient_1.summary()"
      ]
    },
    {
      "cell_type": "code",
      "execution_count": null,
      "metadata": {
        "colab": {
          "base_uri": "https://localhost:8080/",
          "height": 475
        },
        "id": "rigLSGfa7yKo",
        "outputId": "8b8278a8-aecf-4745-b6ae-1f1eb6ca94be"
      },
      "outputs": [
        {
          "name": "stdout",
          "output_type": "stream",
          "text": [
            "Found 800 images belonging to 5 classes.\n",
            "Found 200 images belonging to 5 classes.\n",
            "DONE\n",
            "Fitting Done\n"
          ]
        },
        {
          "data": {
            "image/png": "[encoded data removed]",
            "text/plain": [
              "<Figure size 1440x432 with 2 Axes>"
            ]
          },
          "metadata": {},
          "output_type": "display_data"
        }
      ],
      "source": [
        "# You should be able to divide sample_amount by batch_size\n",
        "train_features_1, train_labels_1 = extract_features(train_dir, 800, out_size = 1280, \n",
        "                                                    transfer = efficient_1, batch_size = 5, n_class = 5) \n",
        "test_features_1, test_labels_1 = extract_features(test_dir, 200, out_size = 1280, \n",
        "                                                    transfer = efficient_1, batch_size = 5, n_class = 5)\n",
        "print(\"DONE\")\n",
        "\n",
        "eff_model_1 = Sequential()\n",
        "eff_model_1.add(tf.keras.layers.BatchNormalization(axis=-1, momentum=0.99, epsilon=0.001))\n",
        "eff_model_1.add(layers.Dense(512, \n",
        "                       kernel_regularizer   = tf.keras.regularizers.l2(l = 0.05),\n",
        "                       activity_regularizer = tf.keras.regularizers.l1(0.05),\n",
        "                       bias_regularizer     = tf.keras.regularizers.l1(0.05),\n",
        "                       activation='relu', \n",
        "                       input_dim=1280))\n",
        "\n",
        "eff_model_1.add(layers.Dense(5, activation='softmax'))\n",
        "\n",
        "eff_model_1.compile(optimizer=tf.keras.optimizers.RMSprop(lr=1e-4),\n",
        "              loss='categorical_crossentropy',\n",
        "              metrics=['accuracy'])\n",
        "\n",
        "eff_model_1.fit(train_features_1, train_labels_1,\n",
        "                    epochs=200,\n",
        "                    # batch_size=10,\n",
        "                    verbose = 0,\n",
        "                    validation_data=(test_features_1, test_labels_1))\n",
        "print(\"Fitting Done\")\n",
        "\n",
        "\n",
        "loss_acc(eff_model_1)"
      ]
    },
    {
      "cell_type": "code",
      "execution_count": null,
      "metadata": {
        "colab": {
          "base_uri": "https://localhost:8080/",
          "height": 497
        },
        "id": "ljoT3NSrniiY",
        "outputId": "9d0de093-318d-48e4-dd5d-b6472832d583"
      },
      "outputs": [
        {
          "name": "stdout",
          "output_type": "stream",
          "text": [
            "              precision    recall  f1-score   support\n",
            "\n",
            "          AS       0.93      1.00      0.96        40\n",
            "          MR       0.94      0.85      0.89        40\n",
            "          MS       0.97      0.88      0.92        40\n",
            "         MVP       0.89      1.00      0.94        40\n",
            "           N       0.97      0.97      0.97        40\n",
            "\n",
            "    accuracy                           0.94       200\n",
            "   macro avg       0.94      0.94      0.94       200\n",
            "weighted avg       0.94      0.94      0.94       200\n",
            "\n"
          ]
        },
        {
          "data": {
            "image/png": "[encoded data removed]",
            "text/plain": [
              "<Figure size 432x288 with 2 Axes>"
            ]
          },
          "metadata": {},
          "output_type": "display_data"
        }
      ],
      "source": [
        "pred = eff_model_1.predict(test_features_1)\n",
        "y_pred = np.argmax(pred, axis = 1)\n",
        "y_true = np.argmax(test_labels_1, axis = 1)\n",
        "\n",
        "labels = list(train_generator.class_indices.keys())\n",
        "\n",
        "cf_matrix_test  = confusion_matrix(y_true, y_pred)\n",
        "\n",
        "print(classification_report(y_true, y_pred, target_names=labels))\n",
        "\n",
        "\n",
        "g = sns.heatmap(cf_matrix_test, annot=True, cmap='Blues')\n",
        "\n",
        "\n",
        "g.xaxis.set_ticklabels(labels)\n",
        "g.yaxis.set_ticklabels(labels)\n",
        "\n",
        "g.set_xlabel('Predicted Label', fontsize=10)\n",
        "g.set_ylabel('true Label', fontsize=10);\n"
      ]
    }
  ],
  "metadata": {
    "accelerator": "GPU",
    "colab": {
      "provenance": [],
      "toc_visible": true,
      "include_colab_link": true
    },
    "gpuClass": "standard",
    "kernelspec": {
      "display_name": "Python 3",
      "language": "python",
      "name": "python3"
    },
    "language_info": {
      "codemirror_mode": {
        "name": "ipython",
        "version": 3
      },
      "file_extension": ".py",
      "mimetype": "text/x-python",
      "name": "python",
      "nbconvert_exporter": "python",
      "pygments_lexer": "ipython3",
      "version": "3.8.5"
    },
    "latex_envs": {
      "LaTeX_envs_menu_present": true,
      "autoclose": false,
      "autocomplete": true,
      "bibliofile": "biblio.bib",
      "cite_by": "apalike",
      "current_citInitial": 1,
      "eqLabelWithNumbers": true,
      "eqNumInitial": 1,
      "hotkeys": {
        "equation": "Ctrl-E",
        "itemize": "Ctrl-I"
      },
      "labels_anchors": false,
      "latex_user_defs": false,
      "report_style_numbering": false,
      "user_envs_cfg": false
    },
    "toc": {
      "base_numbering": 1,
      "nav_menu": {},
      "number_sections": true,
      "sideBar": true,
      "skip_h1_title": false,
      "title_cell": "Table of Contents",
      "title_sidebar": "Contents",
      "toc_cell": false,
      "toc_position": {},
      "toc_section_display": true,
      "toc_window_display": false
    },
    "varInspector": {
      "cols": {
        "lenName": 16,
        "lenType": 16,
        "lenVar": 40
      },
      "kernels_config": {
        "python": {
          "delete_cmd_postfix": "",
          "delete_cmd_prefix": "del ",
          "library": "var_list.py",
          "varRefreshCmd": "print(var_dic_list())"
        },
        "r": {
          "delete_cmd_postfix": ") ",
          "delete_cmd_prefix": "rm(",
          "library": "var_list.r",
          "varRefreshCmd": "cat(var_dic_list()) "
        }
      },
      "types_to_exclude": [
        "module",
        "function",
        "builtin_function_or_method",
        "instance",
        "_Feature"
      ],
      "window_display": false
    }
  },
  "nbformat": 4,
  "nbformat_minor": 0
}